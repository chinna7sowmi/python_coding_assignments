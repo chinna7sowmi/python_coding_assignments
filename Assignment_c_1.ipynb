{
 "cells": [
  {
   "cell_type": "markdown",
   "id": "11d21c07",
   "metadata": {},
   "source": [
    "# Write a python program to print\"Hello Python\""
   ]
  },
  {
   "cell_type": "code",
   "execution_count": 2,
   "id": "1b67045f",
   "metadata": {},
   "outputs": [
    {
     "name": "stdout",
     "output_type": "stream",
     "text": [
      "Hello Python\n"
     ]
    }
   ],
   "source": [
    "print(\"Hello Python\")"
   ]
  },
  {
   "cell_type": "code",
   "execution_count": null,
   "id": "8240c52d",
   "metadata": {},
   "outputs": [],
   "source": []
  },
  {
   "cell_type": "markdown",
   "id": "91271ac6",
   "metadata": {},
   "source": [
    "# Write a python program to do arithematical operations addition and division.?"
   ]
  },
  {
   "cell_type": "code",
   "execution_count": 11,
   "id": "7881d939",
   "metadata": {},
   "outputs": [
    {
     "name": "stdout",
     "output_type": "stream",
     "text": [
      "Enter value of a:1\n",
      "Enter value of b:2\n",
      "The value of 1 + 2 = 3\n",
      "The value of 1 / 2 = 0.5\n"
     ]
    }
   ],
   "source": [
    "a=int(input(\"Enter value of a:\")) #input for a\n",
    "b=int(input(\"Enter value of b:\")) #input for b\n",
    "c=a+b #addition\n",
    "d=a/b #division\n",
    "print(\"The value of\",a,\"+\",b,\"=\",c)\n",
    "print(\"The value of\",a,\"/\",b,\"=\",d)"
   ]
  },
  {
   "cell_type": "markdown",
   "id": "fe507142",
   "metadata": {},
   "source": [
    "# Write a python program to find the area of a triangle?"
   ]
  },
  {
   "cell_type": "code",
   "execution_count": 14,
   "id": "e95937d4",
   "metadata": {},
   "outputs": [
    {
     "name": "stdout",
     "output_type": "stream",
     "text": [
      "Enter value of base:12\n",
      "Enter value of height:123.232\n",
      "Area of the triangle is 739.392\n"
     ]
    }
   ],
   "source": [
    "base=float(input(\"Enter value of base:\"))#input for base\n",
    "height=float(input(\"Enter value of height:\"))#input for height\n",
    "area_of_triangle=base*height/2\n",
    "print(\"Area of the triangle is\",area_of_triangle)"
   ]
  },
  {
   "cell_type": "markdown",
   "id": "b7881b30",
   "metadata": {},
   "source": [
    "# Write a python program to swap two variables?"
   ]
  },
  {
   "cell_type": "code",
   "execution_count": 19,
   "id": "2b154329",
   "metadata": {},
   "outputs": [
    {
     "name": "stdout",
     "output_type": "stream",
     "text": [
      "Enter value of a:1\n",
      "Enter value of b:2\n",
      "The value of a after swapping is: 2\n",
      "The value of b after swapping is: 1\n"
     ]
    }
   ],
   "source": [
    "a=input(\"Enter value of a:\")\n",
    "b=input(\"Enter value of b:\")\n",
    "temp=a\n",
    "a=b\n",
    "b=temp\n",
    "print(\"The value of a after swapping is:\",a)\n",
    "print(\"The value of b after swapping is:\",b)"
   ]
  },
  {
   "cell_type": "markdown",
   "id": "76b57851",
   "metadata": {},
   "source": [
    "# Write a program to generate a random number?"
   ]
  },
  {
   "cell_type": "code",
   "execution_count": 27,
   "id": "4f5bb372",
   "metadata": {},
   "outputs": [
    {
     "name": "stdout",
     "output_type": "stream",
     "text": [
      "5\n"
     ]
    }
   ],
   "source": [
    "import random\n",
    "a=random.randint(0,9)\n",
    "print(a)"
   ]
  }
 ],
 "metadata": {
  "kernelspec": {
   "display_name": "Python 3 (ipykernel)",
   "language": "python",
   "name": "python3"
  },
  "language_info": {
   "codemirror_mode": {
    "name": "ipython",
    "version": 3
   },
   "file_extension": ".py",
   "mimetype": "text/x-python",
   "name": "python",
   "nbconvert_exporter": "python",
   "pygments_lexer": "ipython3",
   "version": "3.9.7"
  }
 },
 "nbformat": 4,
 "nbformat_minor": 5
}
