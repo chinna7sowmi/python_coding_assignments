{
 "cells": [
  {
   "cell_type": "markdown",
   "id": "aa80d4a5",
   "metadata": {},
   "source": [
    "# 1.Write a python program to find LCM?"
   ]
  },
  {
   "cell_type": "code",
   "execution_count": 5,
   "id": "9f41b6c5",
   "metadata": {},
   "outputs": [
    {
     "name": "stdout",
     "output_type": "stream",
     "text": [
      "Enter any number_1:12\n",
      "Enter any number_2:34\n",
      "The L.C.M. is 204\n"
     ]
    }
   ],
   "source": [
    "def l_c_m(x, y):\n",
    "    if x > y:\n",
    "        greater = x\n",
    "    else:\n",
    "        greater = y\n",
    "    \n",
    "    #print(greater)\n",
    "\n",
    "    while(True):\n",
    "        if((greater % x == 0) and (greater % y == 0)):\n",
    "            lcm = greater\n",
    "            break\n",
    "        greater += 1\n",
    "\n",
    "    return lcm\n",
    "\n",
    "num1 = int(input(\"Enter any number_1:\"))\n",
    "num2 = int(input(\"Enter any number_2:\"))\n",
    "\n",
    "print(\"The L.C.M. is\", l_c_m(num1, num2))"
   ]
  },
  {
   "cell_type": "markdown",
   "id": "d675fd5f",
   "metadata": {},
   "source": [
    "# 2.Write a python program to find HCF?"
   ]
  },
  {
   "cell_type": "code",
   "execution_count": 11,
   "id": "34520904",
   "metadata": {},
   "outputs": [
    {
     "name": "stdout",
     "output_type": "stream",
     "text": [
      "Enter any number_1:8\n",
      "Enter any number_2:12\n",
      "The H.C.F. is 4\n"
     ]
    }
   ],
   "source": [
    "def h_c_f(x, y):\n",
    "    if x > y:\n",
    "        smaller = y\n",
    "    else:\n",
    "        smaller = x\n",
    "    \n",
    "    #print(smaller)\n",
    "\n",
    "    for i in range(1,smaller+1):\n",
    "        if((x % i == 0) and (y % i == 0)):\n",
    "            hcf = i\n",
    "            \n",
    "    return hcf\n",
    "\n",
    "num1 = int(input(\"Enter any number_1:\"))\n",
    "num2 = int(input(\"Enter any number_2:\"))\n",
    "\n",
    "print(\"The H.C.F. is\", h_c_f(num1, num2))"
   ]
  },
  {
   "cell_type": "markdown",
   "id": "350ccd58",
   "metadata": {},
   "source": [
    "# 3.Write a python program to convert decimal to binary,octal and hexa decimal?"
   ]
  },
  {
   "cell_type": "code",
   "execution_count": 13,
   "id": "7e34f676",
   "metadata": {},
   "outputs": [
    {
     "name": "stdout",
     "output_type": "stream",
     "text": [
      "Enter any decimal number123\n",
      "Binary form of 123 is:0b1111011\n",
      "Octal form of 123 is:0o173\n",
      "Hexa Decimal form of 123 is:0x7b\n"
     ]
    }
   ],
   "source": [
    "decimal_number=int(input(\"Enter any decimal number\"))\n",
    "\n",
    "print(\"Binary form of {0} is:{1}\".format(decimal_number,bin(decimal_number)))\n",
    "print(\"Octal form of {0} is:{1}\".format(decimal_number,oct(decimal_number)))\n",
    "print(\"Hexa Decimal form of {0} is:{1}\".format(decimal_number,hex(decimal_number)))"
   ]
  },
  {
   "cell_type": "markdown",
   "id": "465c9594",
   "metadata": {},
   "source": [
    "# 4.Write a python program to find ASCII value of a given character?"
   ]
  },
  {
   "cell_type": "code",
   "execution_count": 15,
   "id": "8ace1983",
   "metadata": {},
   "outputs": [
    {
     "name": "stdout",
     "output_type": "stream",
     "text": [
      "Please Enter Character :- a\n",
      "The ASCII value of a is 97\n"
     ]
    }
   ],
   "source": [
    "character = input(\"Please Enter Character :- \")\n",
    " \n",
    "convert = ord(character)\n",
    " \n",
    "print(\"The ASCII value of {0} is {1}\".format(character,convert))\n"
   ]
  },
  {
   "cell_type": "markdown",
   "id": "11157da7",
   "metadata": {},
   "source": [
    "# 5.Write a python program to make simple calcultor with 4 basic mathematical operations?"
   ]
  },
  {
   "cell_type": "code",
   "execution_count": 24,
   "id": "ba348963",
   "metadata": {},
   "outputs": [
    {
     "name": "stdout",
     "output_type": "stream",
     "text": [
      "Select operation.\n",
      "1.Add\n",
      "2.Subtract\n",
      "3.Multiply\n",
      "4.Divide\n",
      "Enter choice(1/2/3/4): 1\n",
      "Enter first number: 12\n",
      "Enter second number: 23\n",
      "12.0 + 23.0 =35.0 \n",
      "Let's do next calculation? (yes/no): n\n"
     ]
    }
   ],
   "source": [
    "def add(x, y):\n",
    "    return x + y\n",
    "\n",
    "def subtract(x, y):\n",
    "    return x - y\n",
    "\n",
    "def multiply(x, y):\n",
    "    return x * y\n",
    "\n",
    "def divide(x, y):\n",
    "    return x / y\n",
    "\n",
    "\n",
    "print(\"Select operation.\")\n",
    "print(\"1.Add\")\n",
    "print(\"2.Subtract\")\n",
    "print(\"3.Multiply\")\n",
    "print(\"4.Divide\")\n",
    "\n",
    "while True:\n",
    "    \n",
    "    select_operation_value = input(\"Enter choice(1/2/3/4): \")\n",
    "\n",
    "    # check if choice is one of the four options\n",
    "    if select_operation_value in ('1', '2', '3', '4'):\n",
    "        num1 = float(input(\"Enter first number: \"))\n",
    "        num2 = float(input(\"Enter second number: \"))\n",
    "\n",
    "        if select_operation_value == '1':\n",
    "            print(\"{0} + {1} ={2} \".format(num1,num2,add(num1, num2)))\n",
    "                  \n",
    "        elif select_operation_value =='2':\n",
    "            print(\"{0} - {1} ={2} \" .format(num1,num2,subtract(num1, num2)))\n",
    "\n",
    "        elif select_operation_value == '3':\n",
    "            print(\"{0} * {1} = {2}\" .format(num1,num2,multiply(num1, num2)))\n",
    "\n",
    "        elif select_operation_value == '4':\n",
    "            print(\"{0} / {1} ={2} \" .format(num1,num2,divide(num1, num2)))\n",
    "        \n",
    "        # check if user wants another calculation\n",
    "        # break the while loop if answer is no\n",
    "        next_calculation = input(\"Let's do next calculation? (yes/no): \")\n",
    "        if next_calculation == \"no\" or \"n\" or \"NO\" or \"N\":\n",
    "            break\n",
    "    \n",
    "    else:\n",
    "        print(\"Invalid Input\")"
   ]
  }
 ],
 "metadata": {
  "kernelspec": {
   "display_name": "Python 3 (ipykernel)",
   "language": "python",
   "name": "python3"
  },
  "language_info": {
   "codemirror_mode": {
    "name": "ipython",
    "version": 3
   },
   "file_extension": ".py",
   "mimetype": "text/x-python",
   "name": "python",
   "nbconvert_exporter": "python",
   "pygments_lexer": "ipython3",
   "version": "3.9.7"
  }
 },
 "nbformat": 4,
 "nbformat_minor": 5
}
