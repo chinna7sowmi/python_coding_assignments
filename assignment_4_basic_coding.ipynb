{
 "cells": [
  {
   "cell_type": "markdown",
   "id": "c6834874",
   "metadata": {},
   "source": [
    "# 1.Write a python program to find the factorial of a number?"
   ]
  },
  {
   "cell_type": "code",
   "execution_count": 6,
   "id": "8029c0fa",
   "metadata": {},
   "outputs": [
    {
     "name": "stdout",
     "output_type": "stream",
     "text": [
      "Enter any number:7\n",
      "5040\n"
     ]
    }
   ],
   "source": [
    "number=int(input(\"Enter any number:\"))\n",
    "factorial=1\n",
    "if number>0:\n",
    "    for i in range(number,1,-1):\n",
    "        factorial=factorial*i\n",
    "        i=i+1\n",
    "print(factorial)      "
   ]
  },
  {
   "cell_type": "markdown",
   "id": "6a15060b",
   "metadata": {},
   "source": [
    "# 2.Write a program to display multiplication of the table?"
   ]
  },
  {
   "cell_type": "code",
   "execution_count": 7,
   "id": "bf85a782",
   "metadata": {},
   "outputs": [
    {
     "name": "stdout",
     "output_type": "stream",
     "text": [
      "Enter any value:10\n",
      "10*0=0\n",
      "10*1=10\n",
      "10*2=20\n",
      "10*3=30\n",
      "10*4=40\n",
      "10*5=50\n",
      "10*6=60\n",
      "10*7=70\n",
      "10*8=80\n",
      "10*9=90\n",
      "10*10=100\n"
     ]
    }
   ],
   "source": [
    "number=int(input(\"Enter any value:\"))\n",
    "i=1\n",
    "for i in range(0,11):\n",
    "    print(\"{0}*{1}={2}\".format(number,i,number*i))\n",
    "    i=i+1"
   ]
  },
  {
   "cell_type": "markdown",
   "id": "62ccd362",
   "metadata": {},
   "source": [
    "# 3.Write a python program to print fibonacci sequence?"
   ]
  },
  {
   "cell_type": "code",
   "execution_count": 18,
   "id": "dfd09fa4",
   "metadata": {},
   "outputs": [
    {
     "name": "stdout",
     "output_type": "stream",
     "text": [
      "Enter any value:10\n",
      "0\n",
      "1\n",
      "1\n",
      "2\n",
      "3\n",
      "5\n",
      "8\n",
      "13\n",
      "21\n",
      "34\n",
      "55\n"
     ]
    }
   ],
   "source": [
    " def fibonacci(number):\n",
    "    a=0\n",
    "    b=1\n",
    "    fib=0\n",
    "    for i in range(number+1):\n",
    "        print(fib)\n",
    "        a=b\n",
    "        b=fib\n",
    "        fib=a+b\n",
    "number=int(input(\"Enter any value:\"))\n",
    "fibonacci(number)"
   ]
  },
  {
   "cell_type": "markdown",
   "id": "0c35d48c",
   "metadata": {},
   "source": [
    "# 4.Write a python program to check Amstrong number?"
   ]
  },
  {
   "cell_type": "code",
   "execution_count": 29,
   "id": "40ff9522",
   "metadata": {},
   "outputs": [
    {
     "name": "stdout",
     "output_type": "stream",
     "text": [
      "Enter any value:370\n",
      "370 is a amstrong number\n"
     ]
    }
   ],
   "source": [
    "number=int(input(\"Enter any value:\"))\n",
    "\n",
    "sum=0\n",
    "digits=0 \n",
    "temp_variable=number\n",
    "\n",
    "#finding number of digits in a given number\n",
    "while temp_variable>0:\n",
    "    digits=digits+1\n",
    "    temp_variable=temp_variable//10\n",
    "    \n",
    "    \n",
    "temp_variable=number    \n",
    "\n",
    "while temp_variable>0:\n",
    "    rem=temp_variable%10\n",
    "    sum=sum+(rem**digits)\n",
    "    temp_variable=temp_variable//10\n",
    "\n",
    "    if number==sum:\n",
    "    print(\"{0} is a amstrong number\".format(number))\n",
    "else:\n",
    "    print(\"{0} is not a amstrong number\".format(number))\n",
    "\n",
    "#print(sum)"
   ]
  },
  {
   "cell_type": "markdown",
   "id": "8a300394",
   "metadata": {},
   "source": [
    "# 5.Write a python program to find amstrong number in an interval?"
   ]
  },
  {
   "cell_type": "code",
   "execution_count": 37,
   "id": "f857c323",
   "metadata": {},
   "outputs": [
    {
     "name": "stdout",
     "output_type": "stream",
     "text": [
      "Enter any lower value:100\n",
      "Enter any upper value:1000\n",
      "153\n",
      "370\n",
      "371\n",
      "407\n"
     ]
    }
   ],
   "source": [
    "lower_value = int(input(\"Enter any lower value:\"))\n",
    "upper_value = int(input(\"Enter any upper value:\"))\n",
    "\n",
    "for num in range(lower_value, upper_value + 1):\n",
    "    temp_variable=num\n",
    "    digits=0\n",
    "    while temp_variable>0:\n",
    "        digits=digits+1\n",
    "        temp_variable=temp_variable//10\n",
    "    \n",
    "    sum = 0\n",
    "    #print(digits)\n",
    "    temp_variable = num\n",
    "    while temp_variable > 0:\n",
    "        rem = temp_variable % 10\n",
    "        sum = sum+(rem ** digits)\n",
    "        temp_variable //= 10\n",
    "\n",
    "    if num == sum:\n",
    "        print(num)\n"
   ]
  },
  {
   "cell_type": "markdown",
   "id": "77f13de6",
   "metadata": {},
   "source": [
    "# 6.Write a python program to find the sum of natural numbers? "
   ]
  },
  {
   "cell_type": "code",
   "execution_count": 44,
   "id": "0baa3f77",
   "metadata": {},
   "outputs": [
    {
     "name": "stdout",
     "output_type": "stream",
     "text": [
      "Enter any number:20\n",
      "The sum of first 20 natural numbers is:210.0\n"
     ]
    }
   ],
   "source": [
    "number=int(input(\"Enter any number:\"))\n",
    "\n",
    "sum_of_natural_numbers=(number*(number+1))/2\n",
    "\n",
    "#print(sum_of_natural_numbers)\n",
    "\n",
    "print(\"The sum of first {0} natural numbers is:{1}\".format(number,sum_of_natural_numbers))"
   ]
  }
 ],
 "metadata": {
  "kernelspec": {
   "display_name": "Python 3 (ipykernel)",
   "language": "python",
   "name": "python3"
  },
  "language_info": {
   "codemirror_mode": {
    "name": "ipython",
    "version": 3
   },
   "file_extension": ".py",
   "mimetype": "text/x-python",
   "name": "python",
   "nbconvert_exporter": "python",
   "pygments_lexer": "ipython3",
   "version": "3.9.7"
  }
 },
 "nbformat": 4,
 "nbformat_minor": 5
}
