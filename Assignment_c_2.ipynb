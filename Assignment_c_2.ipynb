{
 "cells": [
  {
   "cell_type": "markdown",
   "id": "fd81d886",
   "metadata": {},
   "source": [
    "# 1.Write a python program to convert kilometers into miles?"
   ]
  },
  {
   "cell_type": "code",
   "execution_count": 1,
   "id": "5100c7c0",
   "metadata": {},
   "outputs": [
    {
     "name": "stdout",
     "output_type": "stream",
     "text": [
      "Enter number of kilometer:25\n",
      "25.0 kilometers = 15.534275000000001 miles\n"
     ]
    }
   ],
   "source": [
    "kilo_meters=float(input(\"Enter number of kilometer:\"))#input for kilometers\n",
    "one_mile_value=0.621371 #one mile value\n",
    "mile=kilo_meters*one_mile_value #converting kilometers into miles\n",
    "print(kilo_meters,\"kilometers =\",mile,\"miles\")"
   ]
  },
  {
   "cell_type": "markdown",
   "id": "cbb1b3cd",
   "metadata": {},
   "source": [
    "# 2.Write a python program to convert celsius to fahrenheit?"
   ]
  },
  {
   "cell_type": "code",
   "execution_count": 2,
   "id": "718fee84",
   "metadata": {},
   "outputs": [
    {
     "name": "stdout",
     "output_type": "stream",
     "text": [
      "Enter number of celsius:18\n",
      "18.0 celsius = 64.4 faherheit\n"
     ]
    }
   ],
   "source": [
    "celsius=float(input(\"Enter number of celsius:\"))#input for celsius\n",
    "fahrenheit_value=(celsius*1.8)+32\n",
    "print(celsius,\"celsius =\",fahrenheit_value,\"faherheit\")"
   ]
  },
  {
   "cell_type": "markdown",
   "id": "30682dad",
   "metadata": {},
   "source": [
    "# 3.Write a python program to display calender?"
   ]
  },
  {
   "cell_type": "code",
   "execution_count": 6,
   "id": "b0a04770",
   "metadata": {},
   "outputs": [
    {
     "name": "stdout",
     "output_type": "stream",
     "text": [
      "Enter year for calender:1994\n",
      "Enter year for month:8\n",
      "    August 1994\n",
      "Mo Tu We Th Fr Sa Su\n",
      " 1  2  3  4  5  6  7\n",
      " 8  9 10 11 12 13 14\n",
      "15 16 17 18 19 20 21\n",
      "22 23 24 25 26 27 28\n",
      "29 30 31\n",
      "\n",
      "                                  1994\n",
      "\n",
      "      January                   February                   March\n",
      "Mo Tu We Th Fr Sa Su      Mo Tu We Th Fr Sa Su      Mo Tu We Th Fr Sa Su\n",
      "                1  2          1  2  3  4  5  6          1  2  3  4  5  6\n",
      " 3  4  5  6  7  8  9       7  8  9 10 11 12 13       7  8  9 10 11 12 13\n",
      "10 11 12 13 14 15 16      14 15 16 17 18 19 20      14 15 16 17 18 19 20\n",
      "17 18 19 20 21 22 23      21 22 23 24 25 26 27      21 22 23 24 25 26 27\n",
      "24 25 26 27 28 29 30      28                        28 29 30 31\n",
      "31\n",
      "\n",
      "       April                      May                       June\n",
      "Mo Tu We Th Fr Sa Su      Mo Tu We Th Fr Sa Su      Mo Tu We Th Fr Sa Su\n",
      "             1  2  3                         1             1  2  3  4  5\n",
      " 4  5  6  7  8  9 10       2  3  4  5  6  7  8       6  7  8  9 10 11 12\n",
      "11 12 13 14 15 16 17       9 10 11 12 13 14 15      13 14 15 16 17 18 19\n",
      "18 19 20 21 22 23 24      16 17 18 19 20 21 22      20 21 22 23 24 25 26\n",
      "25 26 27 28 29 30         23 24 25 26 27 28 29      27 28 29 30\n",
      "                          30 31\n",
      "\n",
      "        July                     August                  September\n",
      "Mo Tu We Th Fr Sa Su      Mo Tu We Th Fr Sa Su      Mo Tu We Th Fr Sa Su\n",
      "             1  2  3       1  2  3  4  5  6  7                1  2  3  4\n",
      " 4  5  6  7  8  9 10       8  9 10 11 12 13 14       5  6  7  8  9 10 11\n",
      "11 12 13 14 15 16 17      15 16 17 18 19 20 21      12 13 14 15 16 17 18\n",
      "18 19 20 21 22 23 24      22 23 24 25 26 27 28      19 20 21 22 23 24 25\n",
      "25 26 27 28 29 30 31      29 30 31                  26 27 28 29 30\n",
      "\n",
      "      October                   November                  December\n",
      "Mo Tu We Th Fr Sa Su      Mo Tu We Th Fr Sa Su      Mo Tu We Th Fr Sa Su\n",
      "                1  2          1  2  3  4  5  6                1  2  3  4\n",
      " 3  4  5  6  7  8  9       7  8  9 10 11 12 13       5  6  7  8  9 10 11\n",
      "10 11 12 13 14 15 16      14 15 16 17 18 19 20      12 13 14 15 16 17 18\n",
      "17 18 19 20 21 22 23      21 22 23 24 25 26 27      19 20 21 22 23 24 25\n",
      "24 25 26 27 28 29 30      28 29 30                  26 27 28 29 30 31\n",
      "31\n",
      "\n"
     ]
    }
   ],
   "source": [
    "import calendar\n",
    "year=int(input(\"Enter year for calender:\"))\n",
    "month=int(input(\"Enter year for month:\"))\n",
    "if year<0:\n",
    "    print(\"enter year should be greater then 0\")\n",
    "elif month<1 or month>12:\n",
    "    print(\"enter valid month number\")\n",
    "else:\n",
    "    print(calendar.month(year,month))\n",
    "    print(calendar.calendar(year))"
   ]
  },
  {
   "cell_type": "markdown",
   "id": "9544833f",
   "metadata": {},
   "source": [
    "# 4. Write a python program to solve quadratic equation?"
   ]
  },
  {
   "cell_type": "code",
   "execution_count": 16,
   "id": "a05d1259",
   "metadata": {},
   "outputs": [
    {
     "name": "stdout",
     "output_type": "stream",
     "text": [
      "Enter value for a:1\n",
      "Enter value for b:20\n",
      "Enter value for c:1\n",
      "396.0\n",
      "real and different roots\n",
      "(-19.9498743710662+0j)\n",
      "(-0.05012562893380057+0j)\n"
     ]
    }
   ],
   "source": [
    "# import complex math module\n",
    "import cmath\n",
    "\n",
    "a = float(input(\"Enter value for a:\"))\n",
    "b = float(input(\"Enter value for b:\"))\n",
    "c = float(input(\"Enter value for c:\"))\n",
    "\n",
    "# calculating the discriminant\n",
    "discriminant = (b**2)-(4*a*c)\n",
    "print(discriminant)\n",
    "\n",
    "if a > 0 or a < 0:\n",
    "    if discriminant > 0:\n",
    "        print(\"real and different roots\")\n",
    "        print((-b-cmath.sqrt(discriminant))/(2 * a))\n",
    "        print((-b+cmath.sqrt(discriminant))/(2 * a))\n",
    "    elif discriminant==0:\n",
    "        print(\"real and same roots\")\n",
    "        print(-b/(2*a))\n",
    "    else:\n",
    "        print(\"complex roots\")\n",
    "        print(- b / (2 * a), \" + i\", cmath.sqrt(discriminant)) \n",
    "        print(- b / (2 * a), \" - i\", cmath.sqrt(discriminant)) \n",
    "else:\n",
    "    print(\"Enter valid input details\")\n"
   ]
  },
  {
   "cell_type": "markdown",
   "id": "95e41a97",
   "metadata": {},
   "source": [
    "# 5.Write a python program to swap two variables without temp variable?"
   ]
  },
  {
   "cell_type": "code",
   "execution_count": 21,
   "id": "22367776",
   "metadata": {},
   "outputs": [
    {
     "name": "stdout",
     "output_type": "stream",
     "text": [
      "enter value for variable one:131\n",
      "enter value for variable two:234\n",
      "\n",
      "variable_one after swapping 234\n",
      "variable_two after swapping 131\n"
     ]
    }
   ],
   "source": [
    "variable_one=int(input(\"enter value for variable one:\"))\n",
    "variable_two=int(input(\"enter value for variable two:\"))\n",
    "\n",
    "variable_one=variable_one+variable_two \n",
    "variable_two=variable_one-variable_two \n",
    "variable_one=variable_one-variable_two \n",
    "\n",
    "print()\n",
    "\n",
    "print(\"variable_one after swapping\",variable_one)\n",
    "print(\"variable_two after swapping\",variable_two)\n"
   ]
  }
 ],
 "metadata": {
  "kernelspec": {
   "display_name": "Python 3 (ipykernel)",
   "language": "python",
   "name": "python3"
  },
  "language_info": {
   "codemirror_mode": {
    "name": "ipython",
    "version": 3
   },
   "file_extension": ".py",
   "mimetype": "text/x-python",
   "name": "python",
   "nbconvert_exporter": "python",
   "pygments_lexer": "ipython3",
   "version": "3.9.7"
  }
 },
 "nbformat": 4,
 "nbformat_minor": 5
}
